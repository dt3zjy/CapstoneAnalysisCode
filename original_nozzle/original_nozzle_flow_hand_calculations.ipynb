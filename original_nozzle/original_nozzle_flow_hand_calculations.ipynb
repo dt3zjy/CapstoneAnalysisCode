{
 "cells": [
  {
   "cell_type": "markdown",
   "id": "a57db8f5",
   "metadata": {},
   "source": [
    "# Nozzle Flow \"Hand\" Calculations\n",
    "This calculates the several parameters and values along the flow of the nozzle from my capstone project using the isentropic flow relations. These values are then used to validate CFD and FEA simulations done in ANSYS Fluent. All units are in SI (m, N, K, etc.)\n",
    "\n",
    "### Calculating the Exit Temperature\n",
    "This section calculates the temperature at the exit of the nozzle. This will be compared with the CFD values."
   ]
  },
  {
   "cell_type": "code",
   "execution_count": 1,
   "id": "a1a6ded0",
   "metadata": {},
   "outputs": [
    {
     "name": "stdout",
     "output_type": "stream",
     "text": [
      "The exit temperature in Kelvin is 1169.259\n"
     ]
    }
   ],
   "source": [
    "# Importing packages\n",
    "import pandas as pd\n",
    "import numpy as np\n",
    "from scipy.optimize import fsolve\n",
    "\n",
    "# Initializing\n",
    "inlet_n = 10\n",
    "outlet_n = 50\n",
    "p_total = 600*6894.76\n",
    "T_total = 2888\n",
    "\n",
    "# Setting gammas along nozzle\n",
    "gamma_inlet = np.linspace(1.225, 1.227, 10)\n",
    "gamma_throat = 1.227\n",
    "gamma_outlet = np.linspace(1.227, 1.261, 50)\n",
    "\n",
    "# Setting y values along nozzle\n",
    "inlet_n = 10\n",
    "curve_n = 3\n",
    "outlet_n = 50\n",
    "y_inlet = np.linspace(0, 0.01094, inlet_n) #m\n",
    "y_inlet_curve = np.linspace(0.01094, 0.01324, curve_n)\n",
    "y_throat = [(0.01324+0.01480)/2]\n",
    "y_outlet = np.linspace(0.01480, 0.07128, outlet_n) #m\n",
    "ys = np.concatenate((y_inlet, y_inlet_curve, y_throat, y_outlet))\n",
    "\n",
    "# Setting radii along nozzle\n",
    "r_inlet = np.linspace(0.0326, 0.009088, inlet_n)\n",
    "r_inlet_curve = np.linspace(0.009088, 0.00762, curve_n)\n",
    "r_throat = 0.00762\n",
    "r_outlet = np.linspace(0.00762, 0.0226, outlet_n)\n",
    "rs = np.concatenate((r_inlet, r_inlet_curve, [r_throat], r_outlet))\n",
    "\n",
    "# Setting areas along nozzle\n",
    "A_inlet = np.pi*r_inlet**2 #m^2\n",
    "A_inlet_curve = np.pi*r_inlet_curve**2\n",
    "A_throat = np.pi*r_throat**2\n",
    "A_outlet = np.pi*r_outlet**2\n",
    "As = np.concatenate((A_inlet, A_inlet_curve, [A_throat], A_outlet))\n",
    "\n",
    "# Defining Area-Mach Relation\n",
    "def area_mach(x, *data): #a_r is area ratio, g is gamma\n",
    "    a_r, g = data\n",
    "    return ((g+1)/2)**(-(g+1)/(2*(g-1))) * (1+(g-1)/2 * x**2)**((g+1)/(2*(g-1)))/x - a_r\n",
    "\n",
    "# Finding Mach at each point\n",
    "M_inlet = []\n",
    "for i in range(inlet_n):\n",
    "    M_inlet = np.append(M_inlet, fsolve(area_mach, 0.1, args=(A_inlet[i]/A_throat, gamma_inlet[i])))\n",
    "M_inlet_curve = []\n",
    "for i in range(curve_n):\n",
    "    M_inlet_curve = np.append(M_inlet_curve, fsolve(area_mach, 0.1, args=(A_inlet_curve[i]/A_throat, gamma_throat)))\n",
    "M_throat = [1]\n",
    "M_outlet = []\n",
    "for i in range(outlet_n):\n",
    "    M_outlet = np.append(M_outlet, fsolve(area_mach, 5, args=(A_outlet[i]/A_throat, gamma_outlet[i])))\n",
    "Ms = np.concatenate((M_inlet, M_inlet_curve, M_throat, M_outlet))\n",
    "\n",
    "# Finding T at each point\n",
    "Ts_inlet = []\n",
    "for i in range(inlet_n):\n",
    "    Ts_inlet = np.append(Ts_inlet, T_total*(1 + (gamma_inlet[i]-1)/2*M_inlet[i]**2)**(-1))\n",
    "Ts_inlet_curve = []\n",
    "for i in range(curve_n):\n",
    "    Ts_inlet_curve = np.append(Ts_inlet_curve, T_total*(1 + (gamma_throat-1)/2*M_inlet_curve[i]**2)**(-1))\n",
    "Ts_throat = [T_total*(1 + (gamma_throat-1)/2*M_throat[0]**2)**(-1)]\n",
    "Ts_outlet = []\n",
    "for i in range(outlet_n):\n",
    "    Ts_outlet = np.append(Ts_outlet, T_total*(1 + (gamma_outlet[i]-1)/2*M_outlet[i]**2)**(-1))\n",
    "Ts = np.concatenate((Ts_inlet, Ts_inlet_curve, Ts_throat, Ts_outlet))\n",
    "print(\"The exit temperature in Kelvin is\", round(Ts[-1], 3))"
   ]
  },
  {
   "cell_type": "markdown",
   "id": "4e37c763",
   "metadata": {},
   "source": [
    "The temperature of the casing outside of the nozzle is expected to be much lower than this as the above temperature is directly at the exit within the diameter of the nozzle. Since the flow is over-expanded, we can expect that there won't be any flames directly on the aft end of the casing.\n",
    "\n",
    "### Calculating the Pressures and Net Force Load on Nozzle\n",
    "This section will first calculate the pressures along the flow of the nozzle. Then, it will estimate the net force load on the nozzle using an integrative process. The vertical net force will be used to estimate the compressive stress felt by the nozzle and compared to the FEA simulation."
   ]
  },
  {
   "cell_type": "code",
   "execution_count": 2,
   "id": "9b0a01a0",
   "metadata": {},
   "outputs": [],
   "source": [
    "# Finding P at each point\n",
    "ps_inlet = []\n",
    "for i in range(inlet_n):\n",
    "    ps_inlet = np.append(ps_inlet, p_total*(1 + (gamma_inlet[i]-1)/2*M_inlet[i]**2)**(-gamma_inlet[i]/(gamma_inlet[i]-1)))\n",
    "ps_inlet_curve = []\n",
    "for i in range(curve_n):\n",
    "    ps_inlet_curve = np.append(ps_inlet_curve, p_total*(1 + (gamma_throat-1)/2*M_inlet_curve[i]**2)**(-gamma_throat/(gamma_throat-1)))\n",
    "ps_throat = [p_total*(1 + (gamma_throat-1)/2*M_throat[0]**2)**(-gamma_throat/(gamma_throat-1))]\n",
    "ps_outlet = []\n",
    "for i in range(outlet_n):\n",
    "    ps_outlet = np.append(ps_outlet, p_total*(1 + (gamma_outlet[i]-1)/2*M_outlet[i]**2)**(-gamma_outlet[i]/(gamma_outlet[i]-1)))\n",
    "ps = np.concatenate((ps_inlet, ps_inlet_curve, ps_throat, ps_outlet))"
   ]
  },
  {
   "cell_type": "markdown",
   "id": "379a49a7",
   "metadata": {},
   "source": [
    "Pressure acts normal to the surface. Therefore, I must calculate the surface area of each section of the converging and diverging section. The curved area will be ignored in this case to simplify the calculations."
   ]
  },
  {
   "cell_type": "code",
   "execution_count": 3,
   "id": "7066cdb5",
   "metadata": {},
   "outputs": [
    {
     "data": {
      "text/plain": [
       "array([5.65541417e-04, 5.18329299e-04, 4.71117181e-04, 4.23905063e-04,\n",
       "       3.76692945e-04, 3.29480826e-04, 2.82268708e-04, 2.35056590e-04,\n",
       "       1.87844472e-04, 1.83949248e-04, 7.46894804e-05, 5.82794419e-05,\n",
       "       6.05716309e-05, 6.28638200e-05, 6.51560090e-05, 6.74481981e-05,\n",
       "       6.97403871e-05, 7.20325761e-05, 7.43247652e-05, 7.66169542e-05,\n",
       "       7.89091433e-05, 8.12013323e-05, 8.34935213e-05, 8.57857104e-05,\n",
       "       8.80778994e-05, 9.03700885e-05, 9.26622775e-05, 9.49544665e-05,\n",
       "       9.72466556e-05, 9.95388446e-05, 1.01831034e-04, 1.04123223e-04,\n",
       "       1.06415412e-04, 1.08707601e-04, 1.10999790e-04, 1.13291979e-04,\n",
       "       1.15584168e-04, 1.17876357e-04, 1.20168546e-04, 1.22460735e-04,\n",
       "       1.24752924e-04, 1.27045113e-04, 1.29337302e-04, 1.31629491e-04,\n",
       "       1.33921680e-04, 1.36213869e-04, 1.38506058e-04, 1.40798247e-04,\n",
       "       1.43090436e-04, 1.45382625e-04, 1.47674814e-04, 1.49967003e-04,\n",
       "       1.52259193e-04, 1.54551382e-04, 1.56843571e-04, 1.59135760e-04,\n",
       "       1.61427949e-04, 1.63720138e-04, 1.66012327e-04, 1.68304516e-04])"
      ]
     },
     "execution_count": 3,
     "metadata": {},
     "output_type": "execute_result"
    }
   ],
   "source": [
    "# Finding S.A. of each section. Using the truncated cone surface area formula.\n",
    "conv_angle = 65\n",
    "div_angle = 15\n",
    "inlet_fillet_r = 0.00254\n",
    "SA_inlet = []\n",
    "for i in range(inlet_n-1):\n",
    "    # Using trig to find length of section\n",
    "    length = (y_inlet[i+1] - y_inlet[i])/np.cos(conv_angle*np.pi/180)\n",
    "    SA_inlet = np.append(SA_inlet, abs(np.pi*(r_inlet[i] + r_inlet[i+1])*length))\n",
    "torus_R = r_throat + inlet_fillet_r\n",
    "torus_r = inlet_fillet_r\n",
    "SA_inlet_curve = [4*np.pi**2*inlet_fillet_r*torus_R*conv_angle/360]\n",
    "SA_throat = [abs(2*np.pi*r_throat*(0.01324-0.01480))]\n",
    "SA_outlet = []\n",
    "for i in range(outlet_n-1):\n",
    "    # Using trig to find length of section\n",
    "    length = (y_outlet[i+1] - y_outlet[i])/np.cos(div_angle*np.pi/180)\n",
    "    SA_outlet = np.append(SA_outlet, abs(np.pi*(r_outlet[i] + r_outlet[i+1])*length))\n",
    "SAs = np.concatenate((SA_inlet, SA_inlet_curve, SA_throat, SA_outlet))\n",
    "SAs"
   ]
  },
  {
   "cell_type": "markdown",
   "id": "9428b64a",
   "metadata": {},
   "source": [
    "Now, the average pressures at each section will be calculated. For the inlet curve, I'm doing the average of all the points in that section. I'm essentially doing the midpoint formula to find the net force load using F = P*A. The converging and diverging sections are linear, whereas the inlet curve requires an integrated formula using the torus shape. More details on this derivation are below.\n",
    "\n",
    "**Deriving Component Forces on Torus**\n",
    "\n",
    "Point on Torus: $\\vec{r}(\\phi) = \\langle R + r\\cos\\phi, r\\sin\\phi \\rangle$  $[115\\geq\\phi\\geq180]$ \n",
    "\n",
    "$r$ is the fillet radius. $R$ is the distance between the center of the torus and the center of the minor radius, $r$. $\\phi$ is the angle along the arc.\n",
    "\n",
    "Radius of Circle at $\\phi$: $2\\pi(R + r\\cos\\phi)$\n",
    "\n",
    "Arc Length Element: $rd\\phi$\n",
    "\n",
    "Surface Patch Area: $dA = 2\\pi(R + r\\cos\\phi)rd\\phi$\n",
    "\n",
    "Normal Direction: $\\vec{n}(\\phi) = \\langle \\cos\\phi, \\sin\\phi \\rangle$\n",
    "\n",
    "**Force Vector**: $d\\bold{F} = pdA\\vec{n} = \\langle 2\\pi{}pr(R + r\\cos\\phi)\\cos\\phi d\\phi, 2\\pi{}pr(R + r\\cos\\phi)\\sin\\phi d\\phi \\rangle$ \n",
    "\n",
    "Integrating from $\\phi_0 = 115$ to $\\phi_1 = 180$ leads to the following integrals for the X and Y components.\n",
    "\n",
    "**X-Component**\n",
    "$$F_x = \\int_{\\phi_0}^{\\phi_1} 2\\pi{}pr(R + r\\cos\\phi)\\cos\\phi d\\phi $$\n",
    "\n",
    "**Y-Component**\n",
    "$$F_y = \\int_{\\phi_0}^{\\phi_1} 2\\pi{}pr(R + r\\cos\\phi)\\sin\\phi d\\phi $$\n",
    "\n",
    "Using Wolfram-Alpha to solve the integrals...\n",
    "\n",
    "$$F_x = 2\\pi{}pr(R(\\sin\\phi_1 - \\sin\\phi_0) + \\frac{1}{4}r(2\\phi_1-2\\phi_0-sin(2\\phi_0) + sin(2\\phi_1)))$$\n",
    "$$F_y = 2\\pi{}pr\\frac{1}{2}(\\cos\\phi_0 - \\cos\\phi_1)(2R + r(\\cos\\phi_0 + \\cos\\phi_1)) $$"
   ]
  },
  {
   "cell_type": "code",
   "execution_count": 4,
   "id": "2fe9457b",
   "metadata": {},
   "outputs": [],
   "source": [
    "# Finding the pressures at each section\n",
    "avg_ps_inlet = []\n",
    "for i in range(inlet_n-1):\n",
    "    avg_ps_inlet = np.append(avg_ps_inlet, (ps_inlet[i+1] + ps_inlet[i])/2)\n",
    "avg_ps_throat = ps_throat\n",
    "avg_ps_inlet_curve = [np.average(ps_inlet_curve)]\n",
    "avg_ps_outlet = []\n",
    "for i in range(outlet_n-1):\n",
    "    avg_ps_outlet = np.append(avg_ps_outlet, (ps_outlet[i+1] + ps_outlet[i])/2)\n",
    "avg_ps = np.concatenate((avg_ps_inlet, avg_ps_inlet_curve, avg_ps_throat, avg_ps_outlet))\n",
    "\n",
    "# Finding force load at each section\n",
    "Fs_inlet = []\n",
    "for i in range(inlet_n-1):\n",
    "    Fs_inlet = np.append(Fs_inlet, avg_ps_inlet[i]*SA_inlet[i])\n",
    "Fs_throat = [avg_ps_throat[0]*SA_throat[0]]\n",
    "Fs_outlet = []\n",
    "for i in range(outlet_n-1):\n",
    "    Fs_outlet = np.append(Fs_outlet, avg_ps_outlet[i]*SA_outlet[i])\n",
    "Fs = np.concatenate((Fs_inlet, Fs_throat, Fs_outlet))\n",
    "\n",
    "# Angles for component forces\n",
    "phi_0 = np.pi\n",
    "phi_1 = 115*np.pi/180\n",
    "\n",
    "# Finding the net vertical force load\n",
    "F_y_inlet = -Fs_inlet*np.sin(conv_angle*np.pi/180)\n",
    "F_y_inlet_curve = 2*np.pi*avg_ps_inlet_curve[0]*torus_r/2*(np.cos(phi_0) - np.cos(phi_1))*(2*torus_R + torus_r*(np.cos(phi_0) + np.cos(phi_1)))\n",
    "F_y_outlet = Fs_outlet*np.sin(div_angle*np.pi/180)\n",
    "net_F_y = np.sum(F_y_inlet) + F_y_inlet_curve + np.sum(F_y_outlet)\n",
    "\n",
    "# Finding the net horizontal force load\n",
    "F_x_inlet = Fs_inlet*np.cos(conv_angle*np.pi/180)\n",
    "F_x_inlet_curve = 2*np.pi*avg_ps_inlet_curve[0]*torus_r*(torus_R*(np.sin(phi_1) - np.sin(phi_0)) + 1/4*torus_r*(2*phi_1 - 2*phi_0 - np.sin(2*phi_0) + np.sin(2*phi_1)))\n",
    "F_x_throat = Fs_throat\n",
    "F_x_outlet = Fs_outlet*np.cos(div_angle*np.pi/180)\n",
    "net_F_x = np.sum(F_x_inlet) + np.sum(F_x_outlet) + F_x_throat[0] + F_x_inlet_curve"
   ]
  },
  {
   "cell_type": "markdown",
   "id": "96a96944",
   "metadata": {},
   "source": [
    "The nozzle washer is the piece that will be holding up the nozzle while it is under load. The area of the nozzle washer that contacts the nozzle will be used to find the stress. The fillet will be simplified to a square corner.\n",
    "\n",
    "This would be an underestimate because we are not considering any moment forces from the pressure. We are assuming that all forces are acting directly above/lateral to the surfaces of the nozzle washer."
   ]
  },
  {
   "cell_type": "code",
   "execution_count": 7,
   "id": "0fe20592",
   "metadata": {},
   "outputs": [
    {
     "name": "stdout",
     "output_type": "stream",
     "text": [
      "The resultant stress in MPa is 10.41317\n"
     ]
    }
   ],
   "source": [
    "# Finding surface area of nozzle washer fillet\n",
    "washer_fillet_r = 0.00254\n",
    "washer_R = 0.028575 + washer_fillet_r\n",
    "SA_washer_curve = 4*np.pi**2*washer_fillet_r*washer_R*90/360\n",
    "\n",
    "# Finding surface area of X/Y-directions\n",
    "SA_washer_x = 2*np.pi*0.05715/2*0.0127\n",
    "SA_washer_y = np.pi*(0.06985/2)**2 - np.pi*(0.05715/2)**2\n",
    "# Calculating stresses in X/Y-directions\n",
    "sigma_x = net_F_x/SA_washer_x\n",
    "sigma_y = net_F_y/SA_washer_y\n",
    "\n",
    "# Calculating resultant stress\n",
    "sigma = np.sqrt(sigma_x**2 + sigma_y**2)\n",
    "print(\"The resultant stress in MPa is\", round(sigma*1e-6, 5))"
   ]
  }
 ],
 "metadata": {
  "kernelspec": {
   "display_name": "Python 3",
   "language": "python",
   "name": "python3"
  },
  "language_info": {
   "codemirror_mode": {
    "name": "ipython",
    "version": 3
   },
   "file_extension": ".py",
   "mimetype": "text/x-python",
   "name": "python",
   "nbconvert_exporter": "python",
   "pygments_lexer": "ipython3",
   "version": "3.11.9"
  }
 },
 "nbformat": 4,
 "nbformat_minor": 5
}
