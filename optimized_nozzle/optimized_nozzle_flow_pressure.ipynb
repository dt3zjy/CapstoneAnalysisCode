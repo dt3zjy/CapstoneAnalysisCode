{
 "cells": [
  {
   "cell_type": "markdown",
   "id": "a57db8f5",
   "metadata": {},
   "source": [
    "# Nozzle Flow Pressure\n",
    "This calculates the pressure along the flow of the nozzle from my capstone project using the isentropic flow relations. It outputs a table with the pressure at each point along the Y axis of the nozzle (parallel to the flow). This is then used in an FEA simulation done through ANSYS."
   ]
  },
  {
   "cell_type": "code",
   "execution_count": 2,
   "id": "a1a6ded0",
   "metadata": {},
   "outputs": [
    {
     "data": {
      "text/plain": [
       "array([4134218.39711746, 4133170.41351097, 4131545.77969248,\n",
       "       4128917.45543332, 4124438.01295341, 4116289.04832156,\n",
       "       4100156.13596267, 4064307.62119857, 3969622.33997423,\n",
       "       3622629.99125744, 3622629.99125744, 3340812.1908801 ,\n",
       "       2313643.284776  , 2313643.21629934, 2313643.16830715,\n",
       "       1697126.6512208 , 1459075.31220974, 1288867.46402746,\n",
       "       1155179.70319739, 1045378.71855804,  952750.12753226,\n",
       "        873179.64029116,  803915.01087706,  743002.37865422,\n",
       "        688994.01944051,  640782.14122938,  597497.57307548,\n",
       "        558444.58391763,  523057.09585516,  490868.21361134,\n",
       "        461488.39022086,  434589.39039266,  409892.26181665,\n",
       "        387158.14789322,  366181.15941291,  346782.76699586,\n",
       "        328807.3358598 ,  312118.53156735,  296596.39876262,\n",
       "        282134.96616362,  268640.26751907,  256028.69457282,\n",
       "        244225.61738094,  233164.22166484,  222784.52366297,\n",
       "        213032.53113831,  203859.52549161,  195221.44480897,\n",
       "        187078.35148738,  179393.97108933,  172135.2914664 ,\n",
       "        165272.21310254,  158777.24316617,  152625.2270054 ,\n",
       "        146793.11183776,  141259.73821505,  136005.65553   ,\n",
       "        131012.95839716,  126265.14121081,  121746.96857561,\n",
       "        117444.35963431,  113344.28459389,  109434.67198473,\n",
       "        105704.32538551])"
      ]
     },
     "execution_count": 2,
     "metadata": {},
     "output_type": "execute_result"
    }
   ],
   "source": [
    "# Importing packages\n",
    "import pandas as pd\n",
    "import numpy as np\n",
    "from scipy.optimize import fsolve\n",
    "\n",
    "# Initializing\n",
    "inlet_n = 10\n",
    "outlet_n = 50\n",
    "p_total = 600*6894.76\n",
    "\n",
    "# Setting gammas along nozzle\n",
    "gamma_inlet = np.linspace(1.225, 1.227, 10)\n",
    "gamma_throat = 1.227\n",
    "gamma_outlet = np.linspace(1.227, 1.261, 50)\n",
    "\n",
    "# Setting y values along nozzle\n",
    "inlet_n = 10\n",
    "curve_n = 3\n",
    "outlet_n = 50\n",
    "y_inlet = np.linspace(0, 0.01094, inlet_n) #m\n",
    "y_inlet_curve = np.linspace(0.01094, 0.01324, curve_n)\n",
    "y_throat = [(0.01324+0.01480)/2]\n",
    "y_outlet = np.linspace(0.01480, 0.07128, outlet_n) #m\n",
    "ys = np.concatenate((y_inlet, y_inlet_curve, y_throat, y_outlet))\n",
    "\n",
    "# Setting radii along nozzle\n",
    "r_inlet = np.linspace(0.0326, 0.009088, inlet_n)\n",
    "r_inlet_curve = np.linspace(0.009088, 0.00762, curve_n)\n",
    "r_throat = 0.00762\n",
    "r_outlet = np.linspace(0.00762, 0.0176, outlet_n)\n",
    "rs = np.concatenate((r_inlet, r_inlet_curve, [r_throat], r_outlet))\n",
    "\n",
    "# Setting areas along nozzle\n",
    "A_inlet = np.pi*r_inlet**2 #m^2\n",
    "A_inlet_curve = np.pi*r_inlet_curve**2\n",
    "A_throat = np.pi*r_throat**2\n",
    "A_outlet = np.pi*r_outlet**2\n",
    "As = np.concatenate((A_inlet, A_inlet_curve, [A_throat], A_outlet))\n",
    "\n",
    "# Defining Area-Mach Relation\n",
    "def area_mach(x, *data): #a_r is area ratio, g is gamma\n",
    "    a_r, g = data\n",
    "    return ((g+1)/2)**(-(g+1)/(2*(g-1))) * (1+(g-1)/2 * x**2)**((g+1)/(2*(g-1)))/x - a_r\n",
    "\n",
    "# Finding Mach at each point\n",
    "M_inlet = []\n",
    "for i in range(inlet_n):\n",
    "    M_inlet = np.append(M_inlet, fsolve(area_mach, 0.1, args=(A_inlet[i]/A_throat, gamma_inlet[i])))\n",
    "M_inlet_curve = []\n",
    "for i in range(curve_n):\n",
    "    M_inlet_curve = np.append(M_inlet_curve, fsolve(area_mach, 0.1, args=(A_inlet_curve[i]/A_throat, gamma_throat)))\n",
    "M_throat = [1]\n",
    "M_outlet = []\n",
    "for i in range(outlet_n):\n",
    "    M_outlet = np.append(M_outlet, fsolve(area_mach, 5, args=(A_outlet[i]/A_throat, gamma_outlet[i])))\n",
    "Ms = np.concatenate((M_inlet, M_inlet_curve, M_throat, M_outlet))\n",
    "\n",
    "# Finding P at each point\n",
    "ps_inlet = []\n",
    "for i in range(inlet_n):\n",
    "    ps_inlet = np.append(ps_inlet, p_total*(1 + (gamma_inlet[i]-1)/2*M_inlet[i]**2)**(-gamma_inlet[i]/(gamma_inlet[i]-1)))\n",
    "ps_inlet_curve = []\n",
    "for i in range(curve_n):\n",
    "    ps_inlet_curve = np.append(ps_inlet_curve, p_total*(1 + (gamma_throat-1)/2*M_inlet_curve[i]**2)**(-gamma_throat/(gamma_throat-1)))\n",
    "ps_throat = [p_total*(1 + (gamma_throat-1)/2*M_throat[0]**2)**(-gamma_throat/(gamma_throat-1))]\n",
    "ps_outlet = []\n",
    "for i in range(outlet_n):\n",
    "    ps_outlet = np.append(ps_outlet, p_total*(1 + (gamma_outlet[i]-1)/2*M_outlet[i]**2)**(-gamma_outlet[i]/(gamma_outlet[i]-1)))\n",
    "ps = np.concatenate((ps_inlet, ps_inlet_curve, ps_throat, ps_outlet))\n",
    "ps"
   ]
  },
  {
   "cell_type": "code",
   "execution_count": 3,
   "id": "75c11988",
   "metadata": {},
   "outputs": [],
   "source": [
    "#Creating DataFrame with all information\n",
    "df = pd.DataFrame([-ys, ps]).transpose()\n",
    "df.columns = [\"Y Location (m)\", \"Pressure (Pa)\"]\n",
    "df.to_csv(\"Optimized Nozzle Information.csv\", index=False)"
   ]
  }
 ],
 "metadata": {
  "kernelspec": {
   "display_name": "Python 3",
   "language": "python",
   "name": "python3"
  },
  "language_info": {
   "codemirror_mode": {
    "name": "ipython",
    "version": 3
   },
   "file_extension": ".py",
   "mimetype": "text/x-python",
   "name": "python",
   "nbconvert_exporter": "python",
   "pygments_lexer": "ipython3",
   "version": "3.11.9"
  }
 },
 "nbformat": 4,
 "nbformat_minor": 5
}
